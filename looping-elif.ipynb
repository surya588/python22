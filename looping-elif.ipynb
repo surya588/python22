{
 "cells": [
  {
   "cell_type": "code",
   "execution_count": 1,
   "metadata": {
    "collapsed": false
   },
   "outputs": [
    {
     "name": "stdout",
     "output_type": "stream",
     "text": [
      "1.Widows\n",
      "2.Linux\n",
      "3.Mac\n"
     ]
    }
   ],
   "source": [
    "\"\"\"\n",
    "1.Windows\n",
    "2.Linux\n",
    "3.Mac\n",
    "\"\"\"\n",
    "print \"1.Widows\\n2.Linux\\n3.Mac\"\n"
   ]
  },
  {
   "cell_type": "code",
   "execution_count": 2,
   "metadata": {
    "collapsed": false
   },
   "outputs": [
    {
     "name": "stdout",
     "output_type": "stream",
     "text": [
      "1.Widows\n",
      "2.Linux\n",
      "3.Mac\n",
      "Enter an option:1\n",
      "windows selected\n"
     ]
    }
   ],
   "source": [
    "\"\"\"\n",
    "1.Windows\n",
    "2.Linux\n",
    "3.Mac\n",
    "\"\"\"\n",
    "print \"1.Widows\\n2.Linux\\n3.Mac\"\n",
    "opt = raw_input(\"Enter an option:\")\n",
    "if opt == '1':\n",
    "    print \"windows selected\"\n",
    "if opt == \"2\":\n",
    "    print \"Linux selected\"\n",
    "if opt == '3':\n",
    "    print \"MAc selected\""
   ]
  },
  {
   "cell_type": "code",
   "execution_count": 3,
   "metadata": {
    "collapsed": false
   },
   "outputs": [
    {
     "name": "stdout",
     "output_type": "stream",
     "text": [
      "1.Widows\n",
      "2.Linux\n",
      "3.Mac\n",
      "Enter an option:2\n",
      "Linux selected\n"
     ]
    }
   ],
   "source": [
    "\"\"\"\n",
    "1.Windows\n",
    "2.Linux\n",
    "3.Mac\n",
    "\"\"\"\n",
    "print \"1.Widows\\n2.Linux\\n3.Mac\"\n",
    "opt = raw_input(\"Enter an option:\")\n",
    "if opt == '1':\n",
    "    print \"windows selected\"\n",
    "if opt == \"2\":\n",
    "    print \"Linux selected\"\n",
    "if opt == '3':\n",
    "    print \"MAc selected\""
   ]
  },
  {
   "cell_type": "code",
   "execution_count": 4,
   "metadata": {
    "collapsed": false
   },
   "outputs": [
    {
     "name": "stdout",
     "output_type": "stream",
     "text": [
      "1.Widows\n",
      "2.Linux\n",
      "3.Mac\n",
      "Enter an option:3\n",
      "MAc selected\n"
     ]
    }
   ],
   "source": [
    "\"\"\"\n",
    "1.Windows\n",
    "2.Linux\n",
    "3.Mac\n",
    "\"\"\"\n",
    "print \"1.Widows\\n2.Linux\\n3.Mac\"\n",
    "opt = raw_input(\"Enter an option:\")\n",
    "if opt == '1':\n",
    "    print \"windows selected\"\n",
    "if opt == \"2\":\n",
    "    print \"Linux selected\"\n",
    "if opt == '3':\n",
    "    print \"MAc selected\""
   ]
  },
  {
   "cell_type": "code",
   "execution_count": 5,
   "metadata": {
    "collapsed": false
   },
   "outputs": [
    {
     "name": "stdout",
     "output_type": "stream",
     "text": [
      "1.Widows\n",
      "2.Linux\n",
      "3.Mac\n",
      "Enter an option:4\n"
     ]
    }
   ],
   "source": [
    "\"\"\"\n",
    "1.Windows\n",
    "2.Linux\n",
    "3.Mac\n",
    "\"\"\"\n",
    "print \"1.Widows\\n2.Linux\\n3.Mac\"\n",
    "opt = raw_input(\"Enter an option:\"\n",
    "if opt == '1':\n",
    "    print \"windows selected\")\n",
    "if opt == \"2\":\n",
    "    print \"Linux selected\"\n",
    "if opt == '3':\n",
    "    print \"MAc selected\""
   ]
  },
  {
   "cell_type": "code",
   "execution_count": 8,
   "metadata": {
    "collapsed": false
   },
   "outputs": [
    {
     "name": "stdout",
     "output_type": "stream",
     "text": [
      "1.Widows\n",
      "2.Linux\n",
      "3.Mac\n",
      "Enter an option:4\n",
      "other statements in program\n",
      "end of the program\n"
     ]
    }
   ],
   "source": [
    "\"\"\"\n",
    "1.Windows\n",
    "2.Linux\n",
    "3.Mac\n",
    "\"\"\"\n",
    "print \"1.Widows\\n2.Linux\\n3.Mac\"\n",
    "opt = raw_input(\"Enter an option:\")\n",
    "if opt == '1':\n",
    "    print \"windows selected\"\n",
    "if opt == \"2\":\n",
    "    print \"Linux selected\"\n",
    "if opt == '3':\n",
    "    print \"MAc selected\"\n",
    "print \"other statements in program\"\n",
    "print \"end of the program\""
   ]
  },
  {
   "cell_type": "code",
   "execution_count": 1,
   "metadata": {
    "collapsed": false
   },
   "outputs": [
    {
     "name": "stdout",
     "output_type": "stream",
     "text": [
      "1.Widows\n",
      "2.Linux\n",
      "3.Mac\n",
      "Enter an option:2\n",
      "Linux selected\n",
      "Wrong option selectec\n",
      "other statements in program\n",
      "end of the program\n"
     ]
    }
   ],
   "source": [
    "\"\"\"\n",
    "1.Windows\n",
    "2.Linux\n",
    "3.Mac\n",
    "\"\"\"\n",
    "print \"1.Widows\\n2.Linux\\n3.Mac\"\n",
    "opt = raw_input(\"Enter an option:\")\n",
    "if opt == '1':\n",
    "    print \"windows selected\"\n",
    "if opt == \"2\":\n",
    "    print \"Linux selected\"\n",
    "if opt == '3':\n",
    "    print \"MAc selected\"\n",
    "else:\n",
    "    print \"Wrong option selectec\"\n",
    "print \"other statements in program\"\n",
    "print \"end of the program\""
   ]
  },
  {
   "cell_type": "code",
   "execution_count": 2,
   "metadata": {
    "collapsed": false
   },
   "outputs": [
    {
     "name": "stdout",
     "output_type": "stream",
     "text": [
      "1.Widows\n",
      "2.Linux\n",
      "3.Mac\n",
      "Enter an option:1\n",
      "windows selected\n",
      "other statements in program\n",
      "end of the program\n"
     ]
    }
   ],
   "source": [
    "\"\"\"\n",
    "1.Windows\n",
    "2.Linux\n",
    "3.Mac\n",
    "\"\"\"\n",
    "print \"1.Widows\\n2.Linux\\n3.Mac\"\n",
    "opt = raw_input(\"Enter an option:\")\n",
    "if opt == '1':\n",
    "    print \"windows selected\"\n",
    "elif opt == \"2\":\n",
    "    print \"Linux selected\"\n",
    "elif opt == '3':\n",
    "    print \"MAc selected\"\n",
    "else:\n",
    "    print \"Wrong option selectec\"\n",
    "print \"other statements in program\"\n",
    "print \"end of the program\""
   ]
  },
  {
   "cell_type": "code",
   "execution_count": 3,
   "metadata": {
    "collapsed": false
   },
   "outputs": [
    {
     "name": "stdout",
     "output_type": "stream",
     "text": [
      "1.Widows\n",
      "2.Linux\n",
      "3.Mac\n",
      "Enter an option:3\n",
      "MAc selected\n",
      "other statements in program\n",
      "end of the program\n"
     ]
    }
   ],
   "source": [
    "\"\"\"\n",
    "1.Windows\n",
    "2.Linux\n",
    "3.Mac\n",
    "\"\"\"\n",
    "print \"1.Widows\\n2.Linux\\n3.Mac\"\n",
    "opt = raw_input(\"Enter an option:\")\n",
    "if opt == '1':\n",
    "    print \"windows selected\"\n",
    "elif opt == \"2\":\n",
    "    print \"Linux selected\"\n",
    "elif opt == '3':\n",
    "    print \"MAc selected\"\n",
    "else:\n",
    "    print \"Wrong option selectec\"\n",
    "print \"other statements in program\"\n",
    "print \"end of the program\""
   ]
  },
  {
   "cell_type": "code",
   "execution_count": 4,
   "metadata": {
    "collapsed": false
   },
   "outputs": [
    {
     "name": "stdout",
     "output_type": "stream",
     "text": [
      "1.Widows\n",
      "2.Linux\n",
      "3.Mac\n",
      "Enter an option:4\n",
      "Wrong option selectec\n",
      "other statements in program\n",
      "end of the program\n"
     ]
    }
   ],
   "source": [
    "\"\"\"\n",
    "1.Windows\n",
    "2.Linux\n",
    "3.Mac\n",
    "\"\"\"\n",
    "print \"1.Widows\\n2.Linux\\n3.Mac\"\n",
    "opt = raw_input(\"Enter an option:\")\n",
    "if opt == '1':\n",
    "    print \"windows selected\"\n",
    "elif opt == \"2\":\n",
    "    print \"Linux selected\"\n",
    "elif opt == '3':\n",
    "    print \"MAc selected\"\n",
    "else:\n",
    "    print \"Wrong option selectec\"\n",
    "print \"other statements in program\"\n",
    "print \"end of the program\""
   ]
  },
  {
   "cell_type": "code",
   "execution_count": null,
   "metadata": {
    "collapsed": true
   },
   "outputs": [],
   "source": [
    "# looping statements\n",
    "print \"program started\"\n",
    "c=0\n",
    "while c<10:\n",
    "    print c\n",
    "print \"other statements in program\"\n",
    "print \"prgram ended\"\n",
    "    "
   ]
  },
  {
   "cell_type": "code",
   "execution_count": 5,
   "metadata": {
    "collapsed": false
   },
   "outputs": [
    {
     "name": "stdout",
     "output_type": "stream",
     "text": [
      "program started\n",
      "0\n",
      "1\n",
      "2\n",
      "other statements in program\n",
      "prgram ended\n"
     ]
    }
   ],
   "source": [
    "# looping statements\n",
    "print \"program started\"\n",
    "c=0\n",
    "while c<3:\n",
    "    print c\n",
    "    c=c+1\n",
    "print \"other statements in program\"\n",
    "print \"prgram ended\"\n",
    "    "
   ]
  },
  {
   "cell_type": "code",
   "execution_count": 6,
   "metadata": {
    "collapsed": false
   },
   "outputs": [
    {
     "name": "stdout",
     "output_type": "stream",
     "text": [
      "program started\n",
      "iteration started\n",
      "0\n",
      "iteration ended\n",
      "iteration started\n",
      "1\n",
      "iteration ended\n",
      "iteration started\n",
      "2\n",
      "iteration ended\n",
      "other statements in program\n",
      "prgram ended\n"
     ]
    }
   ],
   "source": [
    "# looping statements\n",
    "print \"program started\"\n",
    "c=0\n",
    "while c<3:\n",
    "    print \"iteration started\"\n",
    "    print c\n",
    "    c=c+1\n",
    "    print \"iteration ended\"\n",
    "print \"other statements in program\"\n",
    "print \"prgram ended\"\n",
    "    "
   ]
  },
  {
   "cell_type": "code",
   "execution_count": 7,
   "metadata": {
    "collapsed": false
   },
   "outputs": [
    {
     "name": "stdout",
     "output_type": "stream",
     "text": [
      "program started\n",
      "iteration started\n",
      "0\n",
      "iteration ended\n",
      "iteration started\n",
      "1\n",
      "iteration ended\n",
      "iteration started\n",
      "2\n",
      "other statements in program\n",
      "prgram ended\n"
     ]
    }
   ],
   "source": [
    "# looping statements\n",
    "print \"program started\"\n",
    "c=0\n",
    "while c<3:\n",
    "    print \"iteration started\"\n",
    "    print c\n",
    "    n = c+14\n",
    "    if n > 15:\n",
    "       break\n",
    "    c=c+1\n",
    "    print \"iteration ended\"\n",
    "print \"other statements in program\"\n",
    "print \"prgram ended\"\n",
    "    "
   ]
  },
  {
   "cell_type": "code",
   "execution_count": 8,
   "metadata": {
    "collapsed": false
   },
   "outputs": [
    {
     "name": "stdout",
     "output_type": "stream",
     "text": [
      "program started\n",
      "c= 0\n",
      "other statements in program\n",
      "prgram ended\n"
     ]
    }
   ],
   "source": [
    "# looping statements\n",
    "print \"program started\"\n",
    "c=0\n",
    "while c<3:\n",
    "    break\n",
    "    print \"iteration started\"\n",
    "    print c\n",
    "    c=c+1\n",
    "    print \"iteration ended\"\n",
    "print \"c=\",c\n",
    "print \"other statements in program\"\n",
    "print \"prgram ended\"\n",
    "    "
   ]
  },
  {
   "cell_type": "code",
   "execution_count": 9,
   "metadata": {
    "collapsed": false
   },
   "outputs": [
    {
     "name": "stdout",
     "output_type": "stream",
     "text": [
      "program started\n",
      "iteration started\n",
      "0\n",
      "iteration ended\n",
      "c= 1\n",
      "other statements in program\n",
      "prgram ended\n"
     ]
    }
   ],
   "source": [
    "# looping statements\n",
    "print \"program started\"\n",
    "c=0\n",
    "while c<3:\n",
    "    print \"iteration started\"\n",
    "    print c\n",
    "    c=c+1\n",
    "    print \"iteration ended\"\n",
    "    break\n",
    "print \"c=\",c\n",
    "print \"other statements in program\"\n",
    "print \"prgram ended\"\n",
    "    "
   ]
  },
  {
   "cell_type": "code",
   "execution_count": 10,
   "metadata": {
    "collapsed": false
   },
   "outputs": [
    {
     "name": "stdout",
     "output_type": "stream",
     "text": [
      "program started\n",
      "iteration started\n",
      "0\n",
      "iteration ended\n",
      "other statements in program\n",
      "prgram ended\n"
     ]
    }
   ],
   "source": [
    "# looping statements\n",
    "print \"program started\"\n",
    "c=0\n",
    "while c<3:\n",
    "    print \"iteration started\"\n",
    "    print c\n",
    "    c=c+1\n",
    "    print \"iteration ended\"\n",
    "    break\n",
    "    print \"c=\",c\n",
    "print \"other statements in program\"\n",
    "print \"prgram ended\"\n",
    "    "
   ]
  },
  {
   "cell_type": "code",
   "execution_count": 11,
   "metadata": {
    "collapsed": false
   },
   "outputs": [
    {
     "name": "stdout",
     "output_type": "stream",
     "text": [
      "program started\n",
      "iteration started\n",
      "0\n",
      "iteration ended\n",
      "iteration started\n",
      "1\n",
      "iteration ended\n",
      "iteration started\n",
      "2\n",
      "iteration ended\n",
      "c= 3\n",
      "other statements in program\n",
      "prgram ended\n"
     ]
    }
   ],
   "source": [
    "# looping statements\n",
    "print \"program started\"\n",
    "c=0\n",
    "while c<3:\n",
    "    print \"iteration started\"\n",
    "    print c\n",
    "    c=c+1\n",
    "    print \"iteration ended\"\n",
    "print \"c=\",c\n",
    "print \"other statements in program\"\n",
    "print \"prgram ended\"\n",
    "    "
   ]
  },
  {
   "cell_type": "code",
   "execution_count": 14,
   "metadata": {
    "collapsed": false
   },
   "outputs": [
    {
     "name": "stdout",
     "output_type": "stream",
     "text": [
      "10\n"
     ]
    }
   ],
   "source": [
    "i=0\n",
    "while i<10:\n",
    "    i = i+1\n",
    "print i"
   ]
  },
  {
   "cell_type": "code",
   "execution_count": 12,
   "metadata": {
    "collapsed": true
   },
   "outputs": [],
   "source": [
    "i=0\n",
    "i=1\n",
    "i=2\n",
    "i=3"
   ]
  },
  {
   "cell_type": "code",
   "execution_count": 13,
   "metadata": {
    "collapsed": false
   },
   "outputs": [
    {
     "name": "stdout",
     "output_type": "stream",
     "text": [
      "3\n"
     ]
    }
   ],
   "source": [
    "print i"
   ]
  },
  {
   "cell_type": "code",
   "execution_count": 15,
   "metadata": {
    "collapsed": false
   },
   "outputs": [
    {
     "name": "stdout",
     "output_type": "stream",
     "text": [
      "10\n"
     ]
    }
   ],
   "source": [
    "i=0\n",
    "while i<10:\n",
    "    i = i+1\n",
    "    continue\n",
    "print i"
   ]
  },
  {
   "cell_type": "code",
   "execution_count": 16,
   "metadata": {
    "collapsed": false
   },
   "outputs": [
    {
     "name": "stdout",
     "output_type": "stream",
     "text": [
      "10\n"
     ]
    }
   ],
   "source": [
    "i=0\n",
    "while i<10:\n",
    "    i = i+1\n",
    "print i"
   ]
  },
  {
   "cell_type": "code",
   "execution_count": 18,
   "metadata": {
    "collapsed": false
   },
   "outputs": [
    {
     "name": "stdout",
     "output_type": "stream",
     "text": [
      "1\n",
      "2\n",
      "3\n",
      "4\n",
      "5\n",
      "6\n",
      "7\n",
      "8\n",
      "9\n",
      "10\n"
     ]
    }
   ],
   "source": [
    "i=0\n",
    "while i<10:\n",
    "    i = i+1\n",
    "    print i"
   ]
  },
  {
   "cell_type": "code",
   "execution_count": 19,
   "metadata": {
    "collapsed": false
   },
   "outputs": [
    {
     "name": "stdout",
     "output_type": "stream",
     "text": [
      "1\n",
      "2\n",
      "3\n",
      "4\n",
      "5\n",
      "6\n",
      "7\n",
      "8\n",
      "9\n",
      "10\n"
     ]
    }
   ],
   "source": [
    "i=0\n",
    "while i<10:\n",
    "    i = i+1\n",
    "    print i\n",
    "    continue\n",
    "    "
   ]
  },
  {
   "cell_type": "code",
   "execution_count": 20,
   "metadata": {
    "collapsed": false
   },
   "outputs": [
    {
     "name": "stdout",
     "output_type": "stream",
     "text": [
      "1\n",
      "2\n",
      "3\n",
      "4\n",
      "5\n",
      "7\n",
      "9\n",
      "10\n"
     ]
    }
   ],
   "source": [
    "i=0\n",
    "while i<10:\n",
    "    i = i+1\n",
    "    if i==6 or i==8:\n",
    "       continue\n",
    "    print i"
   ]
  },
  {
   "cell_type": "code",
   "execution_count": 22,
   "metadata": {
    "collapsed": false
   },
   "outputs": [
    {
     "name": "stdout",
     "output_type": "stream",
     "text": [
      "1.Widows\n",
      "2.Linux\n",
      "3.Mac\n",
      "4.quit\n",
      "Enter an option:1\n",
      "windows selected\n",
      "other statements in program\n",
      "end of the program\n"
     ]
    }
   ],
   "source": [
    "\"\"\"\n",
    "1.Windows\n",
    "2.Linux\n",
    "3.Mac\n",
    "\"\"\"\n",
    "print \"1.Widows\\n2.Linux\\n3.Mac\\n4.quit\"\n",
    "opt = raw_input(\"Enter an option:\")\n",
    "if opt == '1':\n",
    "    print \"windows selected\"\n",
    "elif opt == \"2\":\n",
    "    print \"Linux selected\"\n",
    "elif opt == '3':\n",
    "    print \"MAc selected\"\n",
    "else:\n",
    "    print \"Wrong option selectec\"\n",
    "print \"other statements in program\"\n",
    "print \"end of the program\""
   ]
  },
  {
   "cell_type": "code",
   "execution_count": null,
   "metadata": {
    "collapsed": true
   },
   "outputs": [],
   "source": []
  }
 ],
 "metadata": {
  "kernelspec": {
   "display_name": "Python 2",
   "language": "python",
   "name": "python2"
  },
  "language_info": {
   "codemirror_mode": {
    "name": "ipython",
    "version": 2
   },
   "file_extension": ".py",
   "mimetype": "text/x-python",
   "name": "python",
   "nbconvert_exporter": "python",
   "pygments_lexer": "ipython2",
   "version": "2.7.11"
  }
 },
 "nbformat": 4,
 "nbformat_minor": 0
}
